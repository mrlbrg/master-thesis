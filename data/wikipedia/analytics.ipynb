{
 "cells": [
  {
   "cell_type": "markdown",
   "metadata": {},
   "source": [
    "Connected to .venv (Python 3.13.7)"
   ]
  },
  {
   "cell_type": "code",
   "execution_count": 2,
   "id": "a63e50d1",
   "metadata": {},
   "outputs": [],
   "source": [
    "import pandas as pd\n"
   ]
  },
  {
   "cell_type": "code",
   "execution_count": 3,
   "id": "52449b1c",
   "metadata": {},
   "outputs": [],
   "source": [
    "filename = \"/Users/marlenebargou/Downloads/hourly-pageviews-20251001-000000.tsv\""
   ]
  },
  {
   "cell_type": "code",
   "execution_count": 4,
   "id": "06bc2000",
   "metadata": {},
   "outputs": [],
   "source": [
    "df = pd.read_csv(\n",
    "    filename,\n",
    "    sep=\" \",\n",
    "    header=None,\n",
    "    names=[\"project\", \"page_title\", \"views\", \"bytes\"],\n",
    "    dtype={\"project\": str, \"page_title\": str, \"views\": int, \"bytes\": int},\n",
    "    engine=\"c\",\n",
    ")"
   ]
  },
  {
   "cell_type": "code",
   "execution_count": 5,
   "id": "aae9dadc",
   "metadata": {},
   "outputs": [],
   "source": [
    "en_df = df[df[\"project\"] == \"en\"]"
   ]
  },
  {
   "cell_type": "code",
   "execution_count": 14,
   "id": "2d0e2a93",
   "metadata": {},
   "outputs": [
    {
     "data": {
      "text/html": [
       "<div>\n",
       "<style scoped>\n",
       "    .dataframe tbody tr th:only-of-type {\n",
       "        vertical-align: middle;\n",
       "    }\n",
       "\n",
       "    .dataframe tbody tr th {\n",
       "        vertical-align: top;\n",
       "    }\n",
       "\n",
       "    .dataframe thead th {\n",
       "        text-align: right;\n",
       "    }\n",
       "</style>\n",
       "<table border=\"1\" class=\"dataframe\">\n",
       "  <thead>\n",
       "    <tr style=\"text-align: right;\">\n",
       "      <th></th>\n",
       "      <th>project</th>\n",
       "      <th>page_title</th>\n",
       "      <th>views</th>\n",
       "      <th>bytes</th>\n",
       "    </tr>\n",
       "  </thead>\n",
       "  <tbody>\n",
       "    <tr>\n",
       "      <th>1190104</th>\n",
       "      <td>en</td>\n",
       "      <td>Main_Page</td>\n",
       "      <td>96415</td>\n",
       "      <td>0</td>\n",
       "    </tr>\n",
       "    <tr>\n",
       "      <th>1472960</th>\n",
       "      <td>en</td>\n",
       "      <td>Special:Search</td>\n",
       "      <td>18549</td>\n",
       "      <td>0</td>\n",
       "    </tr>\n",
       "    <tr>\n",
       "      <th>956785</th>\n",
       "      <td>en</td>\n",
       "      <td>Google_Chrome</td>\n",
       "      <td>10406</td>\n",
       "      <td>0</td>\n",
       "    </tr>\n",
       "    <tr>\n",
       "      <th>929392</th>\n",
       "      <td>en</td>\n",
       "      <td>Fuck</td>\n",
       "      <td>5689</td>\n",
       "      <td>0</td>\n",
       "    </tr>\n",
       "    <tr>\n",
       "      <th>1330124</th>\n",
       "      <td>en</td>\n",
       "      <td>Pete_Hegseth</td>\n",
       "      <td>4193</td>\n",
       "      <td>0</td>\n",
       "    </tr>\n",
       "    <tr>\n",
       "      <th>...</th>\n",
       "      <td>...</td>\n",
       "      <td>...</td>\n",
       "      <td>...</td>\n",
       "      <td>...</td>\n",
       "    </tr>\n",
       "    <tr>\n",
       "      <th>1608977</th>\n",
       "      <td>en</td>\n",
       "      <td>US_Saint_Pierre</td>\n",
       "      <td>1</td>\n",
       "      <td>0</td>\n",
       "    </tr>\n",
       "    <tr>\n",
       "      <th>1608976</th>\n",
       "      <td>en</td>\n",
       "      <td>US_Saint-Pierre-des-Corps</td>\n",
       "      <td>1</td>\n",
       "      <td>0</td>\n",
       "    </tr>\n",
       "    <tr>\n",
       "      <th>1608975</th>\n",
       "      <td>en</td>\n",
       "      <td>US_Saint-Omer</td>\n",
       "      <td>1</td>\n",
       "      <td>0</td>\n",
       "    </tr>\n",
       "    <tr>\n",
       "      <th>1608974</th>\n",
       "      <td>en</td>\n",
       "      <td>US_Saint-Malo_(women)</td>\n",
       "      <td>1</td>\n",
       "      <td>0</td>\n",
       "    </tr>\n",
       "    <tr>\n",
       "      <th>1704918</th>\n",
       "      <td>en</td>\n",
       "      <td>🥰</td>\n",
       "      <td>1</td>\n",
       "      <td>0</td>\n",
       "    </tr>\n",
       "  </tbody>\n",
       "</table>\n",
       "<p>1184804 rows × 4 columns</p>\n",
       "</div>"
      ],
      "text/plain": [
       "        project                 page_title  views  bytes\n",
       "1190104      en                  Main_Page  96415      0\n",
       "1472960      en             Special:Search  18549      0\n",
       "956785       en              Google_Chrome  10406      0\n",
       "929392       en                       Fuck   5689      0\n",
       "1330124      en               Pete_Hegseth   4193      0\n",
       "...         ...                        ...    ...    ...\n",
       "1608977      en            US_Saint_Pierre      1      0\n",
       "1608976      en  US_Saint-Pierre-des-Corps      1      0\n",
       "1608975      en              US_Saint-Omer      1      0\n",
       "1608974      en      US_Saint-Malo_(women)      1      0\n",
       "1704918      en                          🥰      1      0\n",
       "\n",
       "[1184804 rows x 4 columns]"
      ]
     },
     "execution_count": 14,
     "metadata": {},
     "output_type": "execute_result"
    }
   ],
   "source": [
    "en_df.sort_values(by=\"views\", ascending=False)"
   ]
  },
  {
   "cell_type": "code",
   "execution_count": null,
   "id": "ae4eebfb",
   "metadata": {},
   "outputs": [
    {
     "data": {
      "text/plain": [
       "project\n",
       "en.m       5959444\n",
       "en         3092228\n",
       "ja.m        701459\n",
       "es.m        637343\n",
       "it.d        387708\n",
       "            ...   \n",
       "cho.m            1\n",
       "api.m.m          1\n",
       "rm.b             1\n",
       "gor.m.q          1\n",
       "to.m.d           1\n",
       "Name: views, Length: 1941, dtype: int64"
      ]
     },
     "execution_count": 16,
     "metadata": {},
     "output_type": "execute_result"
    }
   ],
   "source": [
    "# Number of page views per project\n",
    "df.groupby(\"project\")['views'].sum().sort_values(ascending=False)"
   ]
  },
  {
   "cell_type": "code",
   "execution_count": null,
   "id": "263aa2fe",
   "metadata": {},
   "outputs": [
    {
     "data": {
      "text/plain": [
       "project\n",
       "en        1184804\n",
       "en.m      1140710\n",
       "es.m       202612\n",
       "ja.m       201105\n",
       "ja         143043\n",
       "           ...   \n",
       "bg.m.n          1\n",
       "mk.m.b          1\n",
       "pi.m.d          1\n",
       "guw.m           1\n",
       "kw.m.q          1\n",
       "Name: count, Length: 1941, dtype: int64"
      ]
     },
     "execution_count": 6,
     "metadata": {},
     "output_type": "execute_result"
    }
   ],
   "source": [
    "# Number of pages viewed per project\n",
    "df['project'].value_counts()"
   ]
  },
  {
   "cell_type": "code",
   "execution_count": null,
   "id": "9b6125d6",
   "metadata": {},
   "outputs": [],
   "source": []
  }
 ],
 "metadata": {
  "kernelspec": {
   "display_name": ".venv",
   "language": "python",
   "name": "python3"
  },
  "language_info": {
   "codemirror_mode": {
    "name": "ipython",
    "version": 3
   },
   "file_extension": ".py",
   "mimetype": "text/x-python",
   "name": "python",
   "nbconvert_exporter": "python",
   "pygments_lexer": "ipython3",
   "version": "3.13.7"
  }
 },
 "nbformat": 4,
 "nbformat_minor": 5
}
